{
  "nbformat": 4,
  "nbformat_minor": 0,
  "metadata": {
    "colab": {
      "provenance": [],
      "authorship_tag": "ABX9TyOvTlGU5wTMJc5zJqWWpihj",
      "include_colab_link": true
    },
    "kernelspec": {
      "name": "python3",
      "display_name": "Python 3"
    },
    "language_info": {
      "name": "python"
    }
  },
  "cells": [
    {
      "cell_type": "markdown",
      "metadata": {
        "id": "view-in-github",
        "colab_type": "text"
      },
      "source": [
        "<a href=\"https://colab.research.google.com/github/Alishapunw/Data-Science-Bootcamp/blob/Master---Homework-Assignments/PracticeAssignment3.ipynb\" target=\"_parent\"><img src=\"https://colab.research.google.com/assets/colab-badge.svg\" alt=\"Open In Colab\"/></a>"
      ]
    },
    {
      "cell_type": "markdown",
      "source": [
        "Q1. Define two custom numpy arrays, say A and B. Generate two new numpy arrays by stacking A and B vertically and horizontally"
      ],
      "metadata": {
        "id": "zJLmQtEnPGRJ"
      }
    },
    {
      "cell_type": "code",
      "execution_count": null,
      "metadata": {
        "colab": {
          "base_uri": "https://localhost:8080/"
        },
        "id": "D2iR_WelQAQ-",
        "outputId": "6d63c932-2445-45a3-e163-07a64aa9168b"
      },
      "outputs": [
        {
          "output_type": "stream",
          "name": "stdout",
          "text": [
            "This is the first array A: [38 28 14  7 20 38 18 22 10 10]\n",
            "This is the second array B: [23 35 39 23  2 21  1 23 29 37]\n",
            "This is the vertically stacked array\n",
            " [[38 28 14  7 20 38 18 22 10 10]\n",
            " [23 35 39 23  2 21  1 23 29 37]]\n",
            "This is the horizontally stacked array\n",
            " [38 28 14  7 20 38 18 22 10 10 23 35 39 23  2 21  1 23 29 37]\n"
          ]
        }
      ],
      "source": [
        "import numpy as np\n",
        "np.random.seed(42)\n",
        "A = np.random.randint(40, size=10)\n",
        "B = np.random.randint(40, size=10)\n",
        "print('This is the first array A:' ,A)\n",
        "print('This is the second array B:' ,B)\n",
        "x3 = np.vstack([A,B])\n",
        "print('This is the vertically stacked array\\n', x3)\n",
        "x4 = np.hstack([A,B])\n",
        "print('This is the horizontally stacked array\\n', x4)"
      ]
    },
    {
      "cell_type": "markdown",
      "source": [
        "Q2. Find common elements between A and B."
      ],
      "metadata": {
        "id": "L5iwXNPZPRu2"
      }
    },
    {
      "cell_type": "code",
      "source": [
        "A = np.array([1,2,3])\n",
        "B = np.array([4,5,1,2])\n",
        "print('The common elements within set A and B are:' , np.intersect1d(A, B))"
      ],
      "metadata": {
        "id": "j3Ixr0bGTWsA",
        "colab": {
          "base_uri": "https://localhost:8080/"
        },
        "outputId": "f0843b32-6e40-46f7-c450-09f5d3a619a2"
      },
      "execution_count": null,
      "outputs": [
        {
          "output_type": "stream",
          "name": "stdout",
          "text": [
            "The common elements within set A and B are: [1 2]\n"
          ]
        }
      ]
    },
    {
      "cell_type": "markdown",
      "source": [
        "Q3. Extract all numbers from A which are within a specific range. eg between 5 and 10."
      ],
      "metadata": {
        "id": "1Fn3Eer4QUjw"
      }
    },
    {
      "cell_type": "code",
      "source": [
        "import numpy as np\n",
        "A = np.random.randint(10, size=10)\n",
        "print('This is A:', A)\n",
        "B= np.zeros([0])\n",
        "print('This is an empty numpy array B:', B)\n",
        "j=0\n",
        "for i in range(0,len(A)):\n",
        "  if A[i] > 5 and A[i] <10:\n",
        "    B = np.insert(B,j,A[i], 0)\n",
        "    print(B)\n",
        "    j+=1\n",
        "\n",
        "print('This is the final output:' , B)"
      ],
      "metadata": {
        "colab": {
          "base_uri": "https://localhost:8080/"
        },
        "id": "QxDO_dgYPpSe",
        "outputId": "2ce2fcf7-9b0c-4c8d-ba06-a1250d0a24a7"
      },
      "execution_count": null,
      "outputs": [
        {
          "output_type": "stream",
          "name": "stdout",
          "text": [
            "This is A: [5 8 3 1 9 5 4 7 3 4]\n",
            "This is an empty numpy array B: []\n",
            "[8.]\n",
            "[8. 9.]\n",
            "[8. 9. 7.]\n",
            "This is the final output: [8. 9. 7.]\n"
          ]
        }
      ]
    },
    {
      "cell_type": "markdown",
      "source": [
        "Q4. Filter the rows of iris_2d that has petallength (3rd column) > 1.5 and sepallength (1st column) < 5.0\n",
        "\turl = 'https://archive.ics.uci.edu/ml/machine-learning-databases/iris/iris.data'\n",
        "\tiris_2d = np.genfromtxt(url, delimiter=',', dtype='float', usecols=[0,1,2,3])"
      ],
      "metadata": {
        "id": "RThZkvre08cm"
      }
    },
    {
      "cell_type": "code",
      "source": [
        "url = 'https://archive.ics.uci.edu/ml/machine-learning-databases/iris/iris.data'\n",
        "iris_2d = np.genfromtxt(url, delimiter=',', dtype='float', usecols=[0,1,2,3])\n",
        "print(iris_2d.shape)\n",
        "solution = (iris_2d[:, 2] > 1.5) & (iris_2d[:, 0] < 5.0)\n",
        "iris_2d[solution]"
      ],
      "metadata": {
        "colab": {
          "base_uri": "https://localhost:8080/"
        },
        "id": "K03m38a4RzPq",
        "outputId": "c98f7d16-b5b8-48ef-8a57-0ebe33555c8a"
      },
      "execution_count": null,
      "outputs": [
        {
          "output_type": "stream",
          "name": "stdout",
          "text": [
            "(150, 4)\n"
          ]
        },
        {
          "output_type": "execute_result",
          "data": {
            "text/plain": [
              "array([[4.8, 3.4, 1.6, 0.2],\n",
              "       [4.8, 3.4, 1.9, 0.2],\n",
              "       [4.7, 3.2, 1.6, 0.2],\n",
              "       [4.8, 3.1, 1.6, 0.2],\n",
              "       [4.9, 2.4, 3.3, 1. ],\n",
              "       [4.9, 2.5, 4.5, 1.7]])"
            ]
          },
          "metadata": {},
          "execution_count": 29
        }
      ]
    },
    {
      "cell_type": "markdown",
      "source": [
        "Q5. From df filter the 'Manufacturer', 'Model' and 'Type' for every 20th row starting from 1st (row 0).\n",
        "\n"
      ],
      "metadata": {
        "id": "x1NFm-ZDCti9"
      }
    },
    {
      "cell_type": "code",
      "source": [
        "import pandas as pd\n",
        "df = pd.read_csv('https://raw.githubusercontent.com/selva86/datasets/master/Cars93_miss.csv')\n",
        "df.shape\n",
        "print('Manufacturer  Model  Type\\n')\n",
        "for i in range(0,df.shape[0],20):\n",
        "  print(df.Manufacturer[i],df.Model[i],df.Type[i])\n",
        "\n"
      ],
      "metadata": {
        "colab": {
          "base_uri": "https://localhost:8080/"
        },
        "id": "DigaA4jN18-v",
        "outputId": "4f38d233-10bf-4f91-dbc5-f845243ee5b4"
      },
      "execution_count": null,
      "outputs": [
        {
          "output_type": "stream",
          "name": "stdout",
          "text": [
            "Manufacturer  Model  Type\n",
            "\n",
            "Acura Integra Small\n",
            "Chrysler LeBaron Compact\n",
            "Honda Prelude Sporty\n",
            "Mercury Cougar Midsize\n",
            "Subaru Loyale Small\n"
          ]
        }
      ]
    },
    {
      "cell_type": "markdown",
      "source": [
        "Q6. Replace missing values in Min.Price and Max.Price columns with their respective mean.\n",
        "\n",
        "```\n",
        "df = pd.read_csv('https://raw.githubusercontent.com/selva86/datasets/master/Cars93_miss.csv')"
      ],
      "metadata": {
        "id": "QJXAIvKKj1LK"
      }
    },
    {
      "cell_type": "code",
      "source": [
        "import pandas as pd\n",
        "import numpy as np\n",
        "df= pd.read_csv('https://raw.githubusercontent.com/selva86/datasets/master/Cars93_miss.csv')\n",
        "df.rename(columns = {'Min.Price':'Min'}, inplace = True)\n",
        "df.rename(columns = {'Max.Price':'Max'}, inplace = True)\n",
        "for i in range(0,df.shape[0]):\n",
        " if (df.Min[i])== np.NaN:\n",
        "    df.Min[i] = df[\"Min\"].mean()\n",
        " if (df.Max[i] == np.NaN):\n",
        "    df.Max[i] = df[\"Max\"].mean()"
      ],
      "metadata": {
        "id": "etPjUgLp6G19"
      },
      "execution_count": 14,
      "outputs": []
    },
    {
      "cell_type": "markdown",
      "source": [
        "Q7. How to get the rows of a dataframe with row sum > 100?\n",
        "\n",
        "```\n",
        "df = pd.DataFrame(np.random.randint(10, 40, 60).reshape(-1, 4))"
      ],
      "metadata": {
        "id": "93kn7oB0-HIq"
      }
    },
    {
      "cell_type": "code",
      "source": [
        "import pandas as pd\n",
        "df = pd.DataFrame(np.random.randint(10, 40, 60).reshape(-1, 4))\n",
        "df.rename(columns = {1:'A'}, inplace = True)\n",
        "df.rename(columns = {2:'B'}, inplace = True)\n",
        "df.rename(columns = {3:'C'}, inplace = True)\n",
        "for i in range(0,len(df)):\n",
        "  if df.A[i] + df.B[i] + df.C[i] > 100:\n",
        "    print(\"The row with sum > 100 is\", i)"
      ],
      "metadata": {
        "id": "mmEqNHQq9Yk1",
        "colab": {
          "base_uri": "https://localhost:8080/"
        },
        "outputId": "be3ab2ae-41a1-44a4-af29-a4f364ef279d"
      },
      "execution_count": 38,
      "outputs": [
        {
          "output_type": "stream",
          "name": "stdout",
          "text": [
            "The row with sum > 100 is 0\n",
            "The row with sum > 100 is 1\n",
            "The row with sum > 100 is 8\n",
            "The row with sum > 100 is 11\n"
          ]
        }
      ]
    }
  ]
}