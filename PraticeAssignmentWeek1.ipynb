{
  "nbformat": 4,
  "nbformat_minor": 0,
  "metadata": {
    "colab": {
      "provenance": [],
      "authorship_tag": "ABX9TyNEcdTFNs7cPEXEopYIZ4zt",
      "include_colab_link": true
    },
    "kernelspec": {
      "name": "python3",
      "display_name": "Python 3"
    },
    "language_info": {
      "name": "python"
    }
  },
  "cells": [
    {
      "cell_type": "markdown",
      "metadata": {
        "id": "view-in-github",
        "colab_type": "text"
      },
      "source": [
        "<a href=\"https://colab.research.google.com/github/Alishapunw/Data-Science-Bootcamp/blob/Master---Homework-Assignments/PraticeAssignmentWeek1.ipynb\" target=\"_parent\"><img src=\"https://colab.research.google.com/assets/colab-badge.svg\" alt=\"Open In Colab\"/></a>"
      ]
    },
    {
      "cell_type": "markdown",
      "source": [
        "## **Q1. Display Fibonacci Series upto 10 terms**"
      ],
      "metadata": {
        "id": "w_zGHJYrjAKn"
      }
    },
    {
      "cell_type": "code",
      "execution_count": 41,
      "metadata": {
        "colab": {
          "base_uri": "https://localhost:8080/"
        },
        "id": "dbElruVxayGz",
        "outputId": "4efc3bf6-3986-4b97-c5cd-2a4abdab6f5b"
      },
      "outputs": [
        {
          "output_type": "stream",
          "name": "stdout",
          "text": [
            "These are the first 10 numbers of the Fibonacci Series [0, 1, 1, 2, 3, 5, 8, 13, 21, 34]\n"
          ]
        }
      ],
      "source": [
        "a=0\n",
        "b=1\n",
        "i=9\n",
        "k=0\n",
        "fib = [0]\n",
        "while(i>0):\n",
        "  sum = a+b\n",
        "  fib.append(sum)\n",
        "  b= sum\n",
        "  a= fib[k]\n",
        "  i-=1\n",
        "  k+=1\n",
        "print('These are the first 10 numbers of the Fibonacci Series' , fib)\n"
      ]
    },
    {
      "cell_type": "markdown",
      "source": [
        "## **Q2. Display numbers at the odd indices of a list**"
      ],
      "metadata": {
        "id": "G2SqkDGrja0f"
      }
    },
    {
      "cell_type": "code",
      "source": [
        "list = [11,12,13,14,15,16,17,18,19,20]\n",
        "i=1\n",
        "while(i<=len(list)):\n",
        "    print('The number at index',i,'is', list[i])\n",
        "    i=i+2"
      ],
      "metadata": {
        "id": "mVU1XGSmc1V6",
        "colab": {
          "base_uri": "https://localhost:8080/"
        },
        "outputId": "79935afe-28d1-49db-9137-ec2b0cf58786"
      },
      "execution_count": 40,
      "outputs": [
        {
          "output_type": "stream",
          "name": "stdout",
          "text": [
            "The number at index 1 is 12\n",
            "The number at index 3 is 14\n",
            "The number at index 5 is 16\n",
            "The number at index 7 is 18\n",
            "The number at index 9 is 20\n"
          ]
        }
      ]
    },
    {
      "cell_type": "markdown",
      "source": [
        "## **Q3. Print a list in reverse order**"
      ],
      "metadata": {
        "id": "JdcCZ5AvsYDw"
      }
    },
    {
      "cell_type": "code",
      "source": [
        "list = ['a','b','c','d','e']\n",
        "print('This is the original list in reverse order:')\n",
        "for x in range(len(list)-1,-1,-1):\n",
        "  print(list[x], end=\" \")"
      ],
      "metadata": {
        "colab": {
          "base_uri": "https://localhost:8080/"
        },
        "id": "hiS_vEYMjocR",
        "outputId": "e6178863-e5d8-4016-f4f3-818d94fa1217"
      },
      "execution_count": 50,
      "outputs": [
        {
          "output_type": "stream",
          "name": "stdout",
          "text": [
            "This is the original list in reverse order:\n",
            "e d c b a "
          ]
        }
      ]
    },
    {
      "cell_type": "markdown",
      "source": [
        "## **Q4. Your task is to count the number of different words in this text**"
      ],
      "metadata": {
        "id": "_cn6tXDFvldR"
      }
    },
    {
      "cell_type": "code",
      "source": [
        "string1 = \"ChatGPT has created this text to provide tips on creating interesting paragraphs. First, start with a clear topic sentence that introduces the main idea. Then, support the topic sentence with specific details, examples, and evidence. Vary the sentence length and structure to keep the reader engaged. Finally, end with a strong concluding sentence that summarizes the main points. Remember, practice makes perfect!\"\n",
        "teststring =string1.split(\" \")\n",
        "print('Test String = ', teststring)\n",
        "for x in range(0, len(teststring),1):\n",
        "\n",
        "  if x == 0:\n",
        "    count=1\n",
        "    #print('count at x = 0 is ',count,'-------------')\n",
        "\n",
        "  if x > 0:\n",
        "    #print('value of x is ', x)\n",
        "    i1=x-1\n",
        "    #print('value of i1 is', i1)\n",
        "    for v in range (i1,-1,-1):\n",
        "      #print('inside for this is the value of v', v)\n",
        "      if teststring[x] != teststring[v]:\n",
        "        flag=0\n",
        "        #print(\"teststring and index are \",teststring[x], teststring[v],x,v)\n",
        "        #print(\"flag = \",flag)\n",
        "        #print(\"count  = \",count)\n",
        "        #print(\"--------------------------------------\")\n",
        "      else:\n",
        "        flag =1\n",
        "        #print('inside else')\n",
        "        #print('This is the word that was repeated:',teststring[v])\n",
        "        #print('************************************************')\n",
        "        break\n",
        "    if flag == 0:\n",
        "      count = count+1\n",
        "print('This is the count of unique words in the given string: ',count)\n"
      ],
      "metadata": {
        "colab": {
          "base_uri": "https://localhost:8080/"
        },
        "id": "yyypT1IHvzez",
        "outputId": "18c43479-b256-49c7-8a27-f7f31eda9715"
      },
      "execution_count": 106,
      "outputs": [
        {
          "output_type": "stream",
          "name": "stdout",
          "text": [
            "Test String =  ['ChatGPT', 'has', 'created', 'this', 'text', 'to', 'provide', 'tips', 'on', 'creating', 'interesting', 'paragraphs.', 'First,', 'start', 'with', 'a', 'clear', 'topic', 'sentence', 'that', 'introduces', 'the', 'main', 'idea.', 'Then,', 'support', 'the', 'topic', 'sentence', 'with', 'specific', 'details,', 'examples,', 'and', 'evidence.', 'Vary', 'the', 'sentence', 'length', 'and', 'structure', 'to', 'keep', 'the', 'reader', 'engaged.', 'Finally,', 'end', 'with', 'a', 'strong', 'concluding', 'sentence', 'that', 'summarizes', 'the', 'main', 'points.', 'Remember,', 'practice', 'makes', 'perfect!']\n",
            "This is the count of unique words in the given string:  47\n"
          ]
        }
      ]
    },
    {
      "cell_type": "markdown",
      "source": [
        "## **Q5. Write a function that takes a word as an argument and returns the number of vowels in the word**"
      ],
      "metadata": {
        "id": "-eRtED6MAqEX"
      }
    },
    {
      "cell_type": "code",
      "source": [
        "word = input(\"Enter a word \\n\")\n",
        "def vowel_function(word):\n",
        "  list1=['a','e','i','o','u']\n",
        "  count = 0\n",
        "  for c in word.lower():\n",
        "    if c in list1:\n",
        "      count = count+1\n",
        "  return(count)\n",
        "\n",
        "countoutput = vowel_function(word)\n",
        "print('This is the count of vowels in the given word', countoutput)"
      ],
      "metadata": {
        "colab": {
          "base_uri": "https://localhost:8080/"
        },
        "id": "npNlb3Cu4A_f",
        "outputId": "214cc8db-e6d4-4d7a-9b3c-5e6fd11a5a17"
      },
      "execution_count": 111,
      "outputs": [
        {
          "output_type": "stream",
          "name": "stdout",
          "text": [
            "Enter a word \n",
            "product\n",
            "This is the count of vowels in the given word 2\n"
          ]
        }
      ]
    },
    {
      "cell_type": "markdown",
      "source": [
        "## **Q6. Iterate through the following list of animals and print each one in all caps.**\n",
        "\n",
        "  animals=['tiger', 'elephant', 'monkey', 'zebra', 'panther']"
      ],
      "metadata": {
        "id": "SoFRo1oKGu7R"
      }
    },
    {
      "cell_type": "code",
      "source": [
        "animals=['tiger', 'elephant', 'monkey', 'zebra', 'panther']\n",
        "for ani in animals:\n",
        "  print(ani.upper())"
      ],
      "metadata": {
        "colab": {
          "base_uri": "https://localhost:8080/"
        },
        "id": "aCK3s7Y6GAUH",
        "outputId": "3b31bead-2cf7-4064-8c45-bd909600f211"
      },
      "execution_count": 112,
      "outputs": [
        {
          "output_type": "stream",
          "name": "stdout",
          "text": [
            "TIGER\n",
            "ELEPHANT\n",
            "MONKEY\n",
            "ZEBRA\n",
            "PANTHER\n"
          ]
        }
      ]
    },
    {
      "cell_type": "markdown",
      "source": [
        "**## Q7. Iterate from 1 to 15, printing whether the number is odd or even**"
      ],
      "metadata": {
        "id": "7Hu8BoX1H6R0"
      }
    },
    {
      "cell_type": "code",
      "source": [
        "for i in range (1,16):\n",
        "  if i%2 == 0:\n",
        "    print(i, 'is an even number')\n",
        "  else:\n",
        "    print(i,'is an odd number')\n",
        "    #print(f\"{i} is odd\")"
      ],
      "metadata": {
        "colab": {
          "base_uri": "https://localhost:8080/"
        },
        "id": "XqJEiDBZIlxE",
        "outputId": "beac03dc-b685-46d6-f4f0-fc54a2cca720"
      },
      "execution_count": 118,
      "outputs": [
        {
          "output_type": "stream",
          "name": "stdout",
          "text": [
            "1 is an odd number\n",
            "2 is an even number\n",
            "3 is an odd number\n",
            "4 is an even number\n",
            "5 is an odd number\n",
            "6 is an even number\n",
            "7 is an odd number\n",
            "8 is an even number\n",
            "9 is an odd number\n",
            "10 is an even number\n",
            "11 is an odd number\n",
            "12 is an even number\n",
            "13 is an odd number\n",
            "14 is an even number\n",
            "15 is an odd number\n"
          ]
        }
      ]
    },
    {
      "cell_type": "markdown",
      "source": [
        "## **Q8. Take two integers as input from user and return the sum**"
      ],
      "metadata": {
        "id": "0p4kgo8zJohp"
      }
    },
    {
      "cell_type": "code",
      "source": [
        "print('This is the sum of these two integers =', int(input('Enter integer 1 = ')) + int(input('Enter integer 2 = ')))"
      ],
      "metadata": {
        "colab": {
          "base_uri": "https://localhost:8080/"
        },
        "id": "gCX4y7JaJ966",
        "outputId": "6b937820-48c6-44da-bb56-743271e41507"
      },
      "execution_count": 125,
      "outputs": [
        {
          "output_type": "stream",
          "name": "stdout",
          "text": [
            "Enter integer 1 = 89\n",
            "Enter integer 2 = 56\n",
            "This is the sum of these two integers = 145\n"
          ]
        }
      ]
    }
  ]
}